{
 "cells": [
  {
   "cell_type": "markdown",
   "metadata": {},
   "source": [
    "## Definir uma função do zero"
   ]
  },
  {
   "cell_type": "code",
   "execution_count": 67,
   "metadata": {},
   "outputs": [],
   "source": [
    "def reg_simp(x,y):\n",
    "    import numpy as np\n",
    "    from scipy.stats.stats import pearsonr \n",
    "    \n",
    "    #calculos necessários\n",
    "    np.array(x)\n",
    "    np.array(y)\n",
    "    avg_x = np.mean(x)\n",
    "    avg_y = np.mean(y)\n",
    "    corr = pearsonr(x,y)\n",
    "    std_x = np.std(x)\n",
    "    std_y = np.std(y)\n",
    "    \n",
    "    #define B1\n",
    "    B1 = round(corr[0] * (std_y/std_x),3)\n",
    "    \n",
    "    #define B0\n",
    "    B0 = round(avg_y - (B1*avg_x),3)\n",
    "    \n",
    "    print (\"O coeficiente B1 é: {}\".format(B1))\n",
    "    print (\"O coeficiente B0 é: {}\".format(B0))\n",
    "    print(\"A equação fica definida como Y ={} + {} * X\".format(B1,B0))\n",
    "    "
   ]
  },
  {
   "cell_type": "code",
   "execution_count": 73,
   "metadata": {},
   "outputs": [],
   "source": [
    "x = [1,2,4,3,8,9]\n",
    "y = [1,3,3,2,5,6]"
   ]
  },
  {
   "cell_type": "code",
   "execution_count": 74,
   "metadata": {},
   "outputs": [
    {
     "name": "stdout",
     "output_type": "stream",
     "text": [
      "O coeficiente B1 é: 0.542\n",
      "O coeficiente B0 é: 0.894\n",
      "A equação fica definida como Y =0.542 + 0.894 * X\n"
     ]
    }
   ],
   "source": [
    "reg_simp(x,y)"
   ]
  },
  {
   "cell_type": "markdown",
   "metadata": {},
   "source": [
    "## Conferência dos resultados contra o linear regression do sklearn"
   ]
  },
  {
   "cell_type": "code",
   "execution_count": 75,
   "metadata": {},
   "outputs": [],
   "source": [
    "import numpy as np\n",
    "from sklearn.linear_model import LinearRegression"
   ]
  },
  {
   "cell_type": "code",
   "execution_count": 78,
   "metadata": {},
   "outputs": [
    {
     "data": {
      "text/plain": [
       "LinearRegression()"
      ]
     },
     "execution_count": 78,
     "metadata": {},
     "output_type": "execute_result"
    }
   ],
   "source": [
    "model = LinearRegression()\n",
    "x = np.array(x).reshape((-1, 1))\n",
    "y= np.array(y).reshape((-1, 1))\n",
    "model.fit(x, y)"
   ]
  },
  {
   "cell_type": "code",
   "execution_count": 79,
   "metadata": {},
   "outputs": [
    {
     "name": "stdout",
     "output_type": "stream",
     "text": [
      "intercept: [0.894081]\n"
     ]
    }
   ],
   "source": [
    "print('intercept:', model.intercept_)"
   ]
  },
  {
   "cell_type": "code",
   "execution_count": 80,
   "metadata": {},
   "outputs": [
    {
     "name": "stdout",
     "output_type": "stream",
     "text": [
      "slope: [[0.54205607]]\n"
     ]
    }
   ],
   "source": [
    "print('slope:', model.coef_)"
   ]
  },
  {
   "cell_type": "code",
   "execution_count": null,
   "metadata": {},
   "outputs": [],
   "source": []
  }
 ],
 "metadata": {
  "kernelspec": {
   "display_name": "Python 3",
   "language": "python",
   "name": "python3"
  },
  "language_info": {
   "codemirror_mode": {
    "name": "ipython",
    "version": 3
   },
   "file_extension": ".py",
   "mimetype": "text/x-python",
   "name": "python",
   "nbconvert_exporter": "python",
   "pygments_lexer": "ipython3",
   "version": "3.7.3"
  }
 },
 "nbformat": 4,
 "nbformat_minor": 4
}
